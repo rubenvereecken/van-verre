{
 "cells": [
  {
   "cell_type": "code",
   "execution_count": 39,
   "metadata": {
    "collapsed": true
   },
   "outputs": [],
   "source": [
    "import csv\n",
    "from itertools import *\n",
    "import pandas as pd\n",
    "import re\n",
    "import matplotlib.pyplot as plt\n",
    "\n",
    "%matplotlib inline"
   ]
  },
  {
   "cell_type": "code",
   "execution_count": 20,
   "metadata": {
    "collapsed": false
   },
   "outputs": [],
   "source": [
    "allTraffic = pd.read_csv('traffic2015_all.csv')\n",
    "regularTraffic = pd.read_csv('traffic2015_regular.csv')\n",
    "truckTraffic = pd.read_csv('traffic2015_trucks.csv')"
   ]
  },
  {
   "cell_type": "code",
   "execution_count": 24,
   "metadata": {
    "collapsed": false
   },
   "outputs": [],
   "source": [
    "roads = allTraffic['Weg/knoop']\n",
    "segments = allTraffic['Segment']"
   ]
  },
  {
   "cell_type": "code",
   "execution_count": 25,
   "metadata": {
    "collapsed": false
   },
   "outputs": [
    {
     "data": {
      "text/plain": [
       "array(['van Berchem tot Antwerpen-Zuid richting Ring 1',\n",
       "       'van Linkeroever tot Antwerpen-West richting Ring 1',\n",
       "       'van Deurne tot Merksem richting Ring 2',\n",
       "       'van Deurne tot Antwerpen-Oost richting Ring 1',\n",
       "       'van Linkeroever tot Antwerpen-Centrum richting Ring 2 (Kennedytunnel)',\n",
       "       'complex Borgerhout richting Ring 2',\n",
       "       'van Borgerhout tot Berchem richting Ring 1',\n",
       "       'van Borgerhout tot Antwerpen-Oost richting Ring 2',\n",
       "       'complex St. Anna/Linkeroever richting Ring 1',\n",
       "       'van St. Anna/Linkeroever tot Antwerpen-West richting Ring 2',\n",
       "       'complex St. Anna/Linkeroever richting Ring 2',\n",
       "       'van Berchem tot Borgerhout richting Ring 2',\n",
       "       'van Antwerpen-Centrum tot Linkeroever richting Ring 1 (Kennedytunnel)',\n",
       "       'van Le Grellelaan tot Antwerpen-Zuid richting Ring 2',\n",
       "       'van Le Grellelaan tot Antwerpen-Centrum richting Ring 1',\n",
       "       'van Merksem tot Antwerpen-Noord richting Ring 2',\n",
       "       'van Antwerpen-Centrum tot Kol. Silvertopstraat richting Ring 2',\n",
       "       'van Antwerpen-Noord tot Merksem richting Ring 1',\n",
       "       'van Antwerpen-Oost tot Deurne richting Ring 2',\n",
       "       'van Antwerpen-Oost tot oprit Borgerhout richting Ring 1',\n",
       "       'van Antwerpen-West tot St. Anna/Linkeroever richting Ring 1',\n",
       "       'van Antwerpen-West tot Linkeroever richting Ring 2',\n",
       "       'van Kol. Silvertopstraat tot Le Grellelaan richting Ring 2',\n",
       "       'complex Merksem richting Ring 1',\n",
       "       'van Merksem tot Deurne richting Ring 1',\n",
       "       'complex Merksem richting Ring 2',\n",
       "       'van Antwerpen-Zuid tot Berchem richting Ring 2',\n",
       "       'van Antwerpen-Zuid tot Le Grellelaan richting Ring 1'], dtype=object)"
      ]
     },
     "execution_count": 25,
     "metadata": {},
     "output_type": "execute_result"
    }
   ],
   "source": [
    "segments.unique()"
   ]
  },
  {
   "cell_type": "code",
   "execution_count": 43,
   "metadata": {
    "collapsed": false
   },
   "outputs": [],
   "source": [
    "some = allTraffic[allTraffic['Segment'] == 'van Antwerpen-Zuid tot Berchem richting Ring 2']"
   ]
  },
  {
   "cell_type": "code",
   "execution_count": 67,
   "metadata": {
    "collapsed": false
   },
   "outputs": [],
   "source": [
    "meanTrafficPerHour = some.drop('Jaar', axis=1).groupby(('Uur')).mean().drop('Maand', axis=1)"
   ]
  },
  {
   "cell_type": "code",
   "execution_count": 71,
   "metadata": {
    "collapsed": false
   },
   "outputs": [
    {
     "data": {
      "text/plain": [
       "<matplotlib.axes._subplots.AxesSubplot at 0x7f511eda86d0>"
      ]
     },
     "execution_count": 71,
     "metadata": {},
     "output_type": "execute_result"
    },
    {
     "data": {
      "image/png": "[encoded data removed]",
      "text/plain": [
       "<matplotlib.figure.Figure at 0x7f511edb38d0>"
      ]
     },
     "metadata": {},
     "output_type": "display_data"
    }
   ],
   "source": [
    "meanTrafficPerHour.plot(kind='bar')"
   ]
  },
  {
   "cell_type": "code",
   "execution_count": null,
   "metadata": {
    "collapsed": false
   },
   "outputs": [],
   "source": []
  },
  {
   "cell_type": "code",
   "execution_count": null,
   "metadata": {
    "collapsed": true
   },
   "outputs": [],
   "source": []
  }
 ],
 "metadata": {
  "kernelspec": {
   "display_name": "Python 2",
   "language": "python",
   "name": "python2"
  },
  "language_info": {
   "codemirror_mode": {
    "name": "ipython",
    "version": 2
   },
   "file_extension": ".py",
   "mimetype": "text/x-python",
   "name": "python",
   "nbconvert_exporter": "python",
   "pygments_lexer": "ipython2",
   "version": "2.7.12"
  }
 },
 "nbformat": 4,
 "nbformat_minor": 0
}
